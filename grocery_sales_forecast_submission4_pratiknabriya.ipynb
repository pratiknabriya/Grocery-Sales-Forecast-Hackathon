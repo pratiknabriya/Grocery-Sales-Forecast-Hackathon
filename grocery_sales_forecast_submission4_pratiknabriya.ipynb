{
  "nbformat": 4,
  "nbformat_minor": 0,
  "metadata": {
    "colab": {
      "name": "MachineHack_grocery_sales_forecast.ipynb",
      "provenance": []
    },
    "kernelspec": {
      "name": "python3",
      "display_name": "Python 3"
    }
  },
  "cells": [
    {
      "cell_type": "markdown",
      "metadata": {
        "id": "DasLnxjJOCDF"
      },
      "source": [
        "# MachineHack: Grocery Sales Forecast\n",
        "\n",
        "##Overview\n",
        "Sales forecasting has always been one of the most predominant applications of machine learning. Big companies like Walmart have been employing this technique to achieve steady and enormous growth over decades now. In this challenge, you as a data scientist must use machine learning to help a small grocery store in predicting its future sales and making better business decisions. Given the daily sales of a grocery shop recorded over a period of almost 2 years, your objective as a data scientist is to build a machine learning model that can forecast the sales for the upcoming 3 months. You are provided with the recorded observation of daily sales of a grocery shop over a period of 692 days to forecast the sales of the next 90 days. \n",
        "\n",
        "## Data Description \n",
        "\n",
        "The unzipped folder will have the following files. \n",
        "\n",
        "Train.csv – 692 observations. \n",
        "\n",
        "Test.csv – 90 observations. \n",
        "\n",
        "Sample Submission – Sample format for the submission. \n",
        "\n",
        "Target Variable: GrocerySales \n",
        "\n",
        "## Evaluation\n",
        "RMSE: np.sqrt(mean_squared_error(y_true, y_pred))\n",
        "\n",
        "## Additional details\n",
        "For data and more info, visit: https://www.machinehack.com/hackathons/grocery_sales_forecast_weekend_hackathon_4/overview"
      ]
    },
    {
      "cell_type": "code",
      "metadata": {
        "id": "D90LQt-9N-uG"
      },
      "source": [
        "# import necessary libraries \n",
        "\n",
        "%matplotlib inline\n",
        "import warnings \n",
        "warnings.filterwarnings(\"ignore\")\n",
        "\n",
        "import pandas as pd\n",
        "import numpy as np\n",
        "import matplotlib.pyplot as plt\n",
        "import seaborn as sns\n",
        "\n",
        "import sqlite3 \n",
        "import nltk\n",
        "import string\n",
        "import re\n",
        "import pickle\n",
        "\n",
        "from nltk.corpus import stopwords\n",
        "from nltk.tokenize import word_tokenize\n",
        "from nltk.stem import PorterStemmer\n",
        "from nltk.stem.wordnet import WordNetLemmatizer\n",
        "\n",
        "from gensim.models import Word2Vec\n",
        "from gensim.models import KeyedVectors\n",
        "\n",
        "from sklearn.feature_extraction.text import TfidfTransformer \n",
        "from sklearn.feature_extraction.text import TfidfVectorizer \n",
        "from sklearn.feature_extraction.text import CountVectorizer\n",
        "\n",
        "from collections import Counter\n",
        "from tqdm import tqdm\n",
        "import os\n",
        "\n",
        "from sklearn import metrics\n",
        "from sklearn.metrics import confusion_matrix\n",
        "from sklearn.metrics import roc_curve, auc\n",
        "from sklearn.metrics import accuracy_score\n",
        "from sklearn.metrics import roc_auc_score\n",
        "\n",
        "from sklearn.model_selection import GridSearchCV\n",
        "from sklearn.model_selection import RandomizedSearchCV"
      ],
      "execution_count": null,
      "outputs": []
    },
    {
      "cell_type": "code",
      "metadata": {
        "id": "stW_NrucPCMT"
      },
      "source": [
        "# mount google drive \n",
        "\n",
        "from google.colab import drive \n",
        "drive.mount('/content/gdrive')"
      ],
      "execution_count": null,
      "outputs": []
    },
    {
      "cell_type": "code",
      "metadata": {
        "id": "RCaGOA1tPIH0"
      },
      "source": [
        "mypath = '/content/gdrive/My Drive/MachineHack/'\n",
        "train_data = pd.read_csv(mypath + 'Train.csv')\n",
        "test_data = pd.read_csv(mypath + 'Test.csv')"
      ],
      "execution_count": null,
      "outputs": []
    },
    {
      "cell_type": "code",
      "metadata": {
        "id": "nxSYtzkrQqti",
        "outputId": "e8d9ef9c-48ef-4546-fc95-95310fc0144b",
        "colab": {
          "base_uri": "https://localhost:8080/",
          "height": 202
        }
      },
      "source": [
        "train_data.head()"
      ],
      "execution_count": null,
      "outputs": [
        {
          "output_type": "execute_result",
          "data": {
            "text/html": [
              "<div>\n",
              "<style scoped>\n",
              "    .dataframe tbody tr th:only-of-type {\n",
              "        vertical-align: middle;\n",
              "    }\n",
              "\n",
              "    .dataframe tbody tr th {\n",
              "        vertical-align: top;\n",
              "    }\n",
              "\n",
              "    .dataframe thead th {\n",
              "        text-align: right;\n",
              "    }\n",
              "</style>\n",
              "<table border=\"1\" class=\"dataframe\">\n",
              "  <thead>\n",
              "    <tr style=\"text-align: right;\">\n",
              "      <th></th>\n",
              "      <th>Day</th>\n",
              "      <th>GrocerySales</th>\n",
              "    </tr>\n",
              "  </thead>\n",
              "  <tbody>\n",
              "    <tr>\n",
              "      <th>0</th>\n",
              "      <td>1</td>\n",
              "      <td>8418.59</td>\n",
              "    </tr>\n",
              "    <tr>\n",
              "      <th>1</th>\n",
              "      <td>2</td>\n",
              "      <td>8447.47</td>\n",
              "    </tr>\n",
              "    <tr>\n",
              "      <th>2</th>\n",
              "      <td>3</td>\n",
              "      <td>8336.49</td>\n",
              "    </tr>\n",
              "    <tr>\n",
              "      <th>3</th>\n",
              "      <td>4</td>\n",
              "      <td>8579.17</td>\n",
              "    </tr>\n",
              "    <tr>\n",
              "      <th>4</th>\n",
              "      <td>5</td>\n",
              "      <td>8524.31</td>\n",
              "    </tr>\n",
              "  </tbody>\n",
              "</table>\n",
              "</div>"
            ],
            "text/plain": [
              "   Day  GrocerySales\n",
              "0    1       8418.59\n",
              "1    2       8447.47\n",
              "2    3       8336.49\n",
              "3    4       8579.17\n",
              "4    5       8524.31"
            ]
          },
          "metadata": {
            "tags": []
          },
          "execution_count": 4
        }
      ]
    },
    {
      "cell_type": "code",
      "metadata": {
        "id": "xQzTGtpvQvAD",
        "outputId": "2364e57a-10cb-4f9e-d4d7-91d198c451fb",
        "colab": {
          "base_uri": "https://localhost:8080/",
          "height": 202
        }
      },
      "source": [
        "test_data.head()"
      ],
      "execution_count": null,
      "outputs": [
        {
          "output_type": "execute_result",
          "data": {
            "text/html": [
              "<div>\n",
              "<style scoped>\n",
              "    .dataframe tbody tr th:only-of-type {\n",
              "        vertical-align: middle;\n",
              "    }\n",
              "\n",
              "    .dataframe tbody tr th {\n",
              "        vertical-align: top;\n",
              "    }\n",
              "\n",
              "    .dataframe thead th {\n",
              "        text-align: right;\n",
              "    }\n",
              "</style>\n",
              "<table border=\"1\" class=\"dataframe\">\n",
              "  <thead>\n",
              "    <tr style=\"text-align: right;\">\n",
              "      <th></th>\n",
              "      <th>Day</th>\n",
              "    </tr>\n",
              "  </thead>\n",
              "  <tbody>\n",
              "    <tr>\n",
              "      <th>0</th>\n",
              "      <td>693</td>\n",
              "    </tr>\n",
              "    <tr>\n",
              "      <th>1</th>\n",
              "      <td>694</td>\n",
              "    </tr>\n",
              "    <tr>\n",
              "      <th>2</th>\n",
              "      <td>695</td>\n",
              "    </tr>\n",
              "    <tr>\n",
              "      <th>3</th>\n",
              "      <td>696</td>\n",
              "    </tr>\n",
              "    <tr>\n",
              "      <th>4</th>\n",
              "      <td>697</td>\n",
              "    </tr>\n",
              "  </tbody>\n",
              "</table>\n",
              "</div>"
            ],
            "text/plain": [
              "   Day\n",
              "0  693\n",
              "1  694\n",
              "2  695\n",
              "3  696\n",
              "4  697"
            ]
          },
          "metadata": {
            "tags": []
          },
          "execution_count": 5
        }
      ]
    },
    {
      "cell_type": "code",
      "metadata": {
        "id": "wkErfUg0Qyzn",
        "outputId": "db9bbd27-5d67-41ed-c23a-1fa392b508b3",
        "colab": {
          "base_uri": "https://localhost:8080/",
          "height": 52
        }
      },
      "source": [
        "print(train_data.shape)\n",
        "print(test_data.shape)"
      ],
      "execution_count": null,
      "outputs": [
        {
          "output_type": "stream",
          "text": [
            "(692, 2)\n",
            "(90, 1)\n"
          ],
          "name": "stdout"
        }
      ]
    },
    {
      "cell_type": "code",
      "metadata": {
        "id": "p5puxDoKRqAC",
        "outputId": "d9b67c1b-d770-46ab-e1cd-bd63aa2fe750",
        "colab": {
          "base_uri": "https://localhost:8080/",
          "height": 69
        }
      },
      "source": [
        "train_data.isnull().sum()"
      ],
      "execution_count": null,
      "outputs": [
        {
          "output_type": "execute_result",
          "data": {
            "text/plain": [
              "Day             0\n",
              "GrocerySales    0\n",
              "dtype: int64"
            ]
          },
          "metadata": {
            "tags": []
          },
          "execution_count": 7
        }
      ]
    },
    {
      "cell_type": "code",
      "metadata": {
        "id": "yx8IfK7iRtev",
        "outputId": "12c7dc75-dc64-4982-a236-ea44e9876837",
        "colab": {
          "base_uri": "https://localhost:8080/",
          "height": 52
        }
      },
      "source": [
        "test_data.isnull().sum()"
      ],
      "execution_count": null,
      "outputs": [
        {
          "output_type": "execute_result",
          "data": {
            "text/plain": [
              "Day    0\n",
              "dtype: int64"
            ]
          },
          "metadata": {
            "tags": []
          },
          "execution_count": 8
        }
      ]
    },
    {
      "cell_type": "code",
      "metadata": {
        "id": "fBrzVrDUSjwJ"
      },
      "source": [
        "train_data.index = train_data.Day\n",
        "train_data.drop('Day', axis = 1, inplace = True)"
      ],
      "execution_count": null,
      "outputs": []
    },
    {
      "cell_type": "code",
      "metadata": {
        "id": "4EfP84pWQ8G8",
        "outputId": "b12bd136-864d-4257-d94d-93ee84b9e8d2",
        "colab": {
          "base_uri": "https://localhost:8080/",
          "height": 515
        }
      },
      "source": [
        "train_data.plot(figsize = (15, 8))"
      ],
      "execution_count": null,
      "outputs": [
        {
          "output_type": "execute_result",
          "data": {
            "text/plain": [
              "<matplotlib.axes._subplots.AxesSubplot at 0x7fb2479669b0>"
            ]
          },
          "metadata": {
            "tags": []
          },
          "execution_count": 10
        },
        {
          "output_type": "display_data",
          "data": {
            "image/png": "[encoded data removed]",
            "text/plain": [
              "<Figure size 1080x576 with 1 Axes>"
            ]
          },
          "metadata": {
            "tags": [],
            "needs_background": "light"
          }
        }
      ]
    },
    {
      "cell_type": "code",
      "metadata": {
        "id": "qAAIJqgmRQcM",
        "outputId": "59ab34e1-b256-4219-fe68-a7ba4f478e85",
        "colab": {
          "base_uri": "https://localhost:8080/",
          "height": 501
        }
      },
      "source": [
        "plt.figure(figsize = (15, 8))\n",
        "plt.scatter(train_data.index, train_data)"
      ],
      "execution_count": null,
      "outputs": [
        {
          "output_type": "execute_result",
          "data": {
            "text/plain": [
              "<matplotlib.collections.PathCollection at 0x7fb245bb9898>"
            ]
          },
          "metadata": {
            "tags": []
          },
          "execution_count": 11
        },
        {
          "output_type": "display_data",
          "data": {
            "image/png": "[encoded data removed]",
            "text/plain": [
              "<Figure size 1080x576 with 1 Axes>"
            ]
          },
          "metadata": {
            "tags": [],
            "needs_background": "light"
          }
        }
      ]
    },
    {
      "cell_type": "code",
      "metadata": {
        "id": "0DgiUYrKV81E"
      },
      "source": [
        "train_data.reset_index(inplace = True)"
      ],
      "execution_count": null,
      "outputs": []
    },
    {
      "cell_type": "markdown",
      "metadata": {
        "id": "xIqyDv_0aP24"
      },
      "source": [
        "### Model 1: Simple Linear Regression"
      ]
    },
    {
      "cell_type": "code",
      "metadata": {
        "id": "5pw0FLkwGeXA",
        "outputId": "e0e7713f-af2a-44b7-fc2a-58589bdce3d6",
        "colab": {
          "base_uri": "https://localhost:8080/",
          "height": 51
        }
      },
      "source": [
        "# splitting the data into train and cv \n",
        "\n",
        "y = train_data['GrocerySales'].values.reshape(-1,1)\n",
        "X = train_data['Day'].values.reshape(-1,1)\n",
        "\n",
        "from sklearn.model_selection import train_test_split\n",
        "\n",
        "X_train, X_cv, y_train, y_cv = train_test_split(X, y, test_size = 0.2)\n",
        "print(X_train.shape, y_train.shape)\n",
        "print(X_cv.shape, y_cv.shape)"
      ],
      "execution_count": null,
      "outputs": [
        {
          "output_type": "stream",
          "text": [
            "(553, 1) (553, 1)\n",
            "(139, 1) (139, 1)\n"
          ],
          "name": "stdout"
        }
      ]
    },
    {
      "cell_type": "code",
      "metadata": {
        "id": "ZCJ6CxCDSw3S"
      },
      "source": [
        "# simple linear regression model \n",
        "\n",
        "from sklearn.linear_model import LinearRegression\n",
        "\n",
        "lr = LinearRegression()\n",
        "lr.fit(X_train, y_train)\n",
        "\n",
        "y_cv_pred = lr.predict(X_cv)"
      ],
      "execution_count": null,
      "outputs": []
    },
    {
      "cell_type": "code",
      "metadata": {
        "id": "v1iTqNNdVbcy",
        "outputId": "cc8e1b0c-ea71-4e17-f3f4-bb086ac5bdac",
        "colab": {
          "base_uri": "https://localhost:8080/",
          "height": 34
        }
      },
      "source": [
        "from sklearn.metrics import mean_squared_error \n",
        "\n",
        "rmse = mean_squared_error(y_cv, y_cv_pred, squared = False)\n",
        "rmse"
      ],
      "execution_count": null,
      "outputs": [
        {
          "output_type": "execute_result",
          "data": {
            "text/plain": [
              "367.67272298107565"
            ]
          },
          "metadata": {
            "tags": []
          },
          "execution_count": 75
        }
      ]
    },
    {
      "cell_type": "code",
      "metadata": {
        "id": "8OvyP8Yzi1Xe"
      },
      "source": [
        "y_train = train_data['GrocerySales'].values.reshape(-1,1)\n",
        "X_train = train_data['Day'].values.reshape(-1,1)\n",
        "X_test = test_data.values.reshape(-1,1)\n",
        "\n",
        "lr = LinearRegression()\n",
        "lr.fit(X_train, y_train)\n",
        "y_pred = lr.predict(X_test)"
      ],
      "execution_count": null,
      "outputs": []
    },
    {
      "cell_type": "code",
      "metadata": {
        "id": "Zu0xXb4AVdIx",
        "outputId": "3641e77b-bb4e-48b4-b4c1-6474fd61b13b",
        "colab": {
          "base_uri": "https://localhost:8080/",
          "height": 204
        }
      },
      "source": [
        "lr_sub_3 = pd.DataFrame(data = y_pred, columns = {'GrocerySales'})\n",
        "lr_sub_3.head()"
      ],
      "execution_count": null,
      "outputs": [
        {
          "output_type": "execute_result",
          "data": {
            "text/html": [
              "<div>\n",
              "<style scoped>\n",
              "    .dataframe tbody tr th:only-of-type {\n",
              "        vertical-align: middle;\n",
              "    }\n",
              "\n",
              "    .dataframe tbody tr th {\n",
              "        vertical-align: top;\n",
              "    }\n",
              "\n",
              "    .dataframe thead th {\n",
              "        text-align: right;\n",
              "    }\n",
              "</style>\n",
              "<table border=\"1\" class=\"dataframe\">\n",
              "  <thead>\n",
              "    <tr style=\"text-align: right;\">\n",
              "      <th></th>\n",
              "      <th>GrocerySales</th>\n",
              "    </tr>\n",
              "  </thead>\n",
              "  <tbody>\n",
              "    <tr>\n",
              "      <th>0</th>\n",
              "      <td>8935.751307</td>\n",
              "    </tr>\n",
              "    <tr>\n",
              "      <th>1</th>\n",
              "      <td>8936.822065</td>\n",
              "    </tr>\n",
              "    <tr>\n",
              "      <th>2</th>\n",
              "      <td>8937.892824</td>\n",
              "    </tr>\n",
              "    <tr>\n",
              "      <th>3</th>\n",
              "      <td>8938.963582</td>\n",
              "    </tr>\n",
              "    <tr>\n",
              "      <th>4</th>\n",
              "      <td>8940.034341</td>\n",
              "    </tr>\n",
              "  </tbody>\n",
              "</table>\n",
              "</div>"
            ],
            "text/plain": [
              "   GrocerySales\n",
              "0   8935.751307\n",
              "1   8936.822065\n",
              "2   8937.892824\n",
              "3   8938.963582\n",
              "4   8940.034341"
            ]
          },
          "metadata": {
            "tags": []
          },
          "execution_count": 77
        }
      ]
    },
    {
      "cell_type": "code",
      "metadata": {
        "id": "7LGyNbABkBDj"
      },
      "source": [
        "lr_sub_3.to_excel(mypath + 'lr_sub_3.xlsx', index = False)"
      ],
      "execution_count": null,
      "outputs": []
    },
    {
      "cell_type": "markdown",
      "metadata": {
        "id": "1pyQ9nPriDJj"
      },
      "source": [
        "### Model 2: Linear SVR \n",
        "(regularized with L1 loss)\n"
      ]
    },
    {
      "cell_type": "code",
      "metadata": {
        "id": "gIN9-QsvD0dZ",
        "outputId": "fb83cd06-8933-4c01-8226-21bc7d63d3c5",
        "colab": {
          "base_uri": "https://localhost:8080/",
          "height": 51
        }
      },
      "source": [
        "# splitting the data into train and cv \n",
        "\n",
        "y = train_data['GrocerySales'].values.reshape(-1,1)\n",
        "X = train_data['Day'].values.reshape(-1,1)\n",
        "\n",
        "from sklearn.model_selection import train_test_split\n",
        "\n",
        "X_train, X_cv, y_train, y_cv = train_test_split(X, y, test_size = 0.2)\n",
        "print(X_train.shape, y_train.shape)\n",
        "print(X_cv.shape, y_cv.shape)"
      ],
      "execution_count": null,
      "outputs": [
        {
          "output_type": "stream",
          "text": [
            "(553, 1) (553, 1)\n",
            "(139, 1) (139, 1)\n"
          ],
          "name": "stdout"
        }
      ]
    },
    {
      "cell_type": "code",
      "metadata": {
        "id": "MID5ZjMgDvcY"
      },
      "source": [
        "# Support Vector Regression\n",
        "\n",
        "from sklearn.svm import LinearSVR\n",
        "\n",
        "lrsvr = LinearSVR()\n",
        "lrsvr.fit(X_train, y_train)\n",
        "\n",
        "y_cv_pred = lrsvr.predict(X_cv)"
      ],
      "execution_count": null,
      "outputs": []
    },
    {
      "cell_type": "code",
      "metadata": {
        "id": "00ohfX7aDvc0",
        "outputId": "2c54762e-05e3-40b4-e82c-eaf10fa67a3f",
        "colab": {
          "base_uri": "https://localhost:8080/",
          "height": 34
        }
      },
      "source": [
        "from sklearn.metrics import mean_squared_error \n",
        "\n",
        "rmse = mean_squared_error(y_cv, y_cv_pred, squared = False)\n",
        "rmse"
      ],
      "execution_count": null,
      "outputs": [
        {
          "output_type": "execute_result",
          "data": {
            "text/plain": [
              "3985.2611456347345"
            ]
          },
          "metadata": {
            "tags": []
          },
          "execution_count": 131
        }
      ]
    },
    {
      "cell_type": "code",
      "metadata": {
        "id": "uaEQVkVYDvdA"
      },
      "source": [
        "y_train = train_data['GrocerySales'].values.reshape(-1,1)\n",
        "X_train = train_data['Day'].values.reshape(-1,1)\n",
        "X_test = test_data.values.reshape(-1,1)\n",
        "\n",
        "lrsvr = LinearSVR()\n",
        "lrsvr.fit(X_train, y_train)\n",
        "y_pred = lrsvr.predict(X_test)"
      ],
      "execution_count": null,
      "outputs": []
    },
    {
      "cell_type": "code",
      "metadata": {
        "id": "QtPM3pssDvdL",
        "outputId": "1f42b7a8-248c-41f5-81b8-720e1a69a925",
        "colab": {
          "base_uri": "https://localhost:8080/",
          "height": 204
        }
      },
      "source": [
        "lrsvr_sub_1 = pd.DataFrame(data = y_pred, columns = {'GrocerySales'})\n",
        "lrsvr_sub_1.head()"
      ],
      "execution_count": null,
      "outputs": [
        {
          "output_type": "execute_result",
          "data": {
            "text/html": [
              "<div>\n",
              "<style scoped>\n",
              "    .dataframe tbody tr th:only-of-type {\n",
              "        vertical-align: middle;\n",
              "    }\n",
              "\n",
              "    .dataframe tbody tr th {\n",
              "        vertical-align: top;\n",
              "    }\n",
              "\n",
              "    .dataframe thead th {\n",
              "        text-align: right;\n",
              "    }\n",
              "</style>\n",
              "<table border=\"1\" class=\"dataframe\">\n",
              "  <thead>\n",
              "    <tr style=\"text-align: right;\">\n",
              "      <th></th>\n",
              "      <th>GrocerySales</th>\n",
              "    </tr>\n",
              "  </thead>\n",
              "  <tbody>\n",
              "    <tr>\n",
              "      <th>0</th>\n",
              "      <td>11904.905869</td>\n",
              "    </tr>\n",
              "    <tr>\n",
              "      <th>1</th>\n",
              "      <td>11921.671502</td>\n",
              "    </tr>\n",
              "    <tr>\n",
              "      <th>2</th>\n",
              "      <td>11938.437136</td>\n",
              "    </tr>\n",
              "    <tr>\n",
              "      <th>3</th>\n",
              "      <td>11955.202769</td>\n",
              "    </tr>\n",
              "    <tr>\n",
              "      <th>4</th>\n",
              "      <td>11971.968403</td>\n",
              "    </tr>\n",
              "  </tbody>\n",
              "</table>\n",
              "</div>"
            ],
            "text/plain": [
              "   GrocerySales\n",
              "0  11904.905869\n",
              "1  11921.671502\n",
              "2  11938.437136\n",
              "3  11955.202769\n",
              "4  11971.968403"
            ]
          },
          "metadata": {
            "tags": []
          },
          "execution_count": 125
        }
      ]
    },
    {
      "cell_type": "code",
      "metadata": {
        "id": "Ura5D5wjDvdW"
      },
      "source": [
        "lr_sub_2.to_excel(mypath + 'lr_sub_2.xlsx', index = False)"
      ],
      "execution_count": null,
      "outputs": []
    },
    {
      "cell_type": "markdown",
      "metadata": {
        "id": "89S1j5cowOTr"
      },
      "source": [
        "### Model 3: RBF-Kernel SVR"
      ]
    },
    {
      "cell_type": "code",
      "metadata": {
        "id": "YYU8_8TZFwBj",
        "outputId": "9f208d1f-48e8-42bd-badf-b9913aad183e",
        "colab": {
          "base_uri": "https://localhost:8080/",
          "height": 51
        }
      },
      "source": [
        "# splitting the data into train and cv \n",
        "\n",
        "y = train_data['GrocerySales'].values.reshape(-1,1)\n",
        "X = train_data['Day'].values.reshape(-1,1)\n",
        "X = X[320:,:]\n",
        "y = y[320:,:]\n",
        "\n",
        "from sklearn.model_selection import train_test_split\n",
        "\n",
        "X_train, X_cv, y_train, y_cv = train_test_split(X, y, test_size = 0.2)\n",
        "print(X_train.shape, y_train.shape)\n",
        "print(X_cv.shape, y_cv.shape)"
      ],
      "execution_count": null,
      "outputs": [
        {
          "output_type": "stream",
          "text": [
            "(297, 1) (297, 1)\n",
            "(75, 1) (75, 1)\n"
          ],
          "name": "stdout"
        }
      ]
    },
    {
      "cell_type": "code",
      "metadata": {
        "id": "ZY6LDml2FwB9"
      },
      "source": [
        "# RBF SVR\n",
        "\n",
        "from sklearn.svm import SVR\n",
        "\n",
        "svr = SVR(C=1., epsilon = 0.1, kernel='rbf')\n",
        "svr.fit(X_train, y_train)\n",
        "\n",
        "y_cv_pred = svr.predict(X_cv)"
      ],
      "execution_count": null,
      "outputs": []
    },
    {
      "cell_type": "code",
      "metadata": {
        "id": "c_sq07-KFwCP",
        "outputId": "9d634579-b0da-4bb4-f558-80382b6aec44",
        "colab": {
          "base_uri": "https://localhost:8080/",
          "height": 34
        }
      },
      "source": [
        "from sklearn.metrics import mean_squared_error \n",
        "\n",
        "rmse = mean_squared_error(y_cv, y_cv_pred, squared = False)\n",
        "rmse"
      ],
      "execution_count": null,
      "outputs": [
        {
          "output_type": "execute_result",
          "data": {
            "text/plain": [
              "183.87666549631217"
            ]
          },
          "metadata": {
            "tags": []
          },
          "execution_count": 7
        }
      ]
    },
    {
      "cell_type": "code",
      "metadata": {
        "id": "JX0F57-lGuF2",
        "outputId": "41e13087-1cb3-47b9-edde-c8fb579882c3",
        "colab": {
          "base_uri": "https://localhost:8080/",
          "height": 187
        }
      },
      "source": [
        "# tuning parameter C\n",
        "for i in [0.01, 0.1, 1, 10, 100, 1000, 10000, 100000, 10**6, 10**7]:\n",
        "    svr = SVR(C = i, epsilon = 0.1, kernel = 'rbf')\n",
        "    svr.fit(X_train, y_train)\n",
        "\n",
        "    y_cv_pred = svr.predict(X_cv)\n",
        "    y_cv_pred_tr = svr.predict(X_train)\n",
        "    rmse_cv = mean_squared_error(y_cv, y_cv_pred, squared = False)\n",
        "    rmse_train = mean_squared_error(y_train, y_cv_pred_tr, squared = False)\n",
        "    print(\"param:{} -> cv: {}   train:{}\".format(i, rmse_cv, rmse_train))"
      ],
      "execution_count": null,
      "outputs": [
        {
          "output_type": "stream",
          "text": [
            "param:0.01 -> cv: 189.29450292976225   train:216.77770299276358\n",
            "param:0.1 -> cv: 188.5425019877059   train:216.1712961807133\n",
            "param:1 -> cv: 183.87666549631217   train:212.19821820828355\n",
            "param:10 -> cv: 175.37654008725767   train:203.94911812778685\n",
            "param:100 -> cv: 172.39830287922192   train:199.53538655046862\n",
            "param:1000 -> cv: 160.66105702006666   train:186.75156325448566\n",
            "param:10000 -> cv: 154.03749928875052   train:172.79725533530444\n",
            "param:100000 -> cv: 149.52248186929245   train:166.5927859762035\n",
            "param:1000000 -> cv: 143.42066034477057   train:164.12510533289534\n",
            "param:10000000 -> cv: 142.77281842940846   train:163.28683750466757\n"
          ],
          "name": "stdout"
        }
      ]
    },
    {
      "cell_type": "code",
      "metadata": {
        "id": "bGvZkjX5FwCh",
        "outputId": "832dd8b2-091c-4995-a1db-ad92b4f2da56",
        "colab": {
          "base_uri": "https://localhost:8080/",
          "height": 51
        }
      },
      "source": [
        "# We taked C = 1000, epsilon = 0.1 and kernel = 'rbf'\n",
        "y_train = train_data[320:]['GrocerySales'].values.reshape(-1,1)\n",
        "X_train = train_data[320:]['Day'].values.reshape(-1,1)\n",
        "X_test = test_data.values.reshape(-1,1)\n",
        "print(X_train.shape, y_train.shape)\n",
        "\n",
        "svr = SVR(C = 1000, epsilon = 0.1, kernel = 'rbf')\n",
        "svr.fit(X_train, y_train)\n",
        "y_pred = svr.predict(X_test)\n",
        "print(X_test.shape, y_pred.shape)"
      ],
      "execution_count": null,
      "outputs": [
        {
          "output_type": "stream",
          "text": [
            "(372, 1) (372, 1)\n",
            "(90, 1) (90,)\n"
          ],
          "name": "stdout"
        }
      ]
    },
    {
      "cell_type": "code",
      "metadata": {
        "id": "Qd_CrmM4FwCw",
        "outputId": "94aca54b-465f-42f0-eb00-dfc5a6bcd3f6",
        "colab": {
          "base_uri": "https://localhost:8080/",
          "height": 204
        }
      },
      "source": [
        "rbfsvr_sub_3 = pd.DataFrame(data = y_pred, columns = {'GrocerySales'})\n",
        "rbfsvr_sub_3.head()"
      ],
      "execution_count": null,
      "outputs": [
        {
          "output_type": "execute_result",
          "data": {
            "text/html": [
              "<div>\n",
              "<style scoped>\n",
              "    .dataframe tbody tr th:only-of-type {\n",
              "        vertical-align: middle;\n",
              "    }\n",
              "\n",
              "    .dataframe tbody tr th {\n",
              "        vertical-align: top;\n",
              "    }\n",
              "\n",
              "    .dataframe thead th {\n",
              "        text-align: right;\n",
              "    }\n",
              "</style>\n",
              "<table border=\"1\" class=\"dataframe\">\n",
              "  <thead>\n",
              "    <tr style=\"text-align: right;\">\n",
              "      <th></th>\n",
              "      <th>GrocerySales</th>\n",
              "    </tr>\n",
              "  </thead>\n",
              "  <tbody>\n",
              "    <tr>\n",
              "      <th>0</th>\n",
              "      <td>8910.382015</td>\n",
              "    </tr>\n",
              "    <tr>\n",
              "      <th>1</th>\n",
              "      <td>8915.581880</td>\n",
              "    </tr>\n",
              "    <tr>\n",
              "      <th>2</th>\n",
              "      <td>8920.922705</td>\n",
              "    </tr>\n",
              "    <tr>\n",
              "      <th>3</th>\n",
              "      <td>8926.398727</td>\n",
              "    </tr>\n",
              "    <tr>\n",
              "      <th>4</th>\n",
              "      <td>8932.004001</td>\n",
              "    </tr>\n",
              "  </tbody>\n",
              "</table>\n",
              "</div>"
            ],
            "text/plain": [
              "   GrocerySales\n",
              "0   8910.382015\n",
              "1   8915.581880\n",
              "2   8920.922705\n",
              "3   8926.398727\n",
              "4   8932.004001"
            ]
          },
          "metadata": {
            "tags": []
          },
          "execution_count": 18
        }
      ]
    },
    {
      "cell_type": "code",
      "metadata": {
        "id": "stAGnV3NFwC6"
      },
      "source": [
        "rbfsvr_sub_3.to_excel(mypath + 'rbfsvr_sub_3.xlsx', index = False)"
      ],
      "execution_count": null,
      "outputs": []
    },
    {
      "cell_type": "markdown",
      "metadata": {
        "id": "dFMHb0MeuREW"
      },
      "source": [
        "### Model 4: Stochastic Gradient Descent Logistic Regression\n",
        "####(with L2 penalty) "
      ]
    },
    {
      "cell_type": "code",
      "metadata": {
        "id": "B6oUUYu4uREe",
        "outputId": "ec316241-429f-4e92-862c-23df5464ce73",
        "colab": {
          "base_uri": "https://localhost:8080/",
          "height": 51
        }
      },
      "source": [
        "# splitting the data into train and cv \n",
        "\n",
        "y = train_data['GrocerySales'].values.reshape(-1,1)\n",
        "X = train_data['Day'].values.reshape(-1,1)\n",
        "\n",
        "from sklearn.model_selection import train_test_split\n",
        "\n",
        "X_train, X_cv, y_train, y_cv = train_test_split(X, y, test_size = 0.2)\n",
        "print(X_train.shape, y_train.shape)\n",
        "print(X_cv.shape, y_cv.shape)"
      ],
      "execution_count": null,
      "outputs": [
        {
          "output_type": "stream",
          "text": [
            "(553, 1) (553, 1)\n",
            "(139, 1) (139, 1)\n"
          ],
          "name": "stdout"
        }
      ]
    },
    {
      "cell_type": "code",
      "metadata": {
        "id": "HGYgAFgjz4Cb"
      },
      "source": [
        "# Scaling features \n",
        "\n",
        "from sklearn.preprocessing import StandardScaler\n",
        "scaler = StandardScaler()\n",
        "scaler.fit(X_train)  # Don't cheat - fit only on training data\n",
        "X_train = scaler.transform(X_train)\n",
        "X_test = scaler.transform(X_cv)  # apply same transformation to test data"
      ],
      "execution_count": null,
      "outputs": []
    },
    {
      "cell_type": "code",
      "metadata": {
        "id": "ekd5HWUduREw",
        "outputId": "46c5be58-3c24-4d08-dfaa-04e73ffd45c2",
        "colab": {
          "base_uri": "https://localhost:8080/",
          "height": 170
        }
      },
      "source": [
        "# fine tuning the hyperpram alpha (regulaization strength)\n",
        "\n",
        "from sklearn.linear_model import SGDRegressor\n",
        "from sklearn.metrics import mean_squared_error \n",
        "\n",
        "for i in [0.01, 0.1, 1, 10, 100, 1000, 10000, 100000, 1000000]:\n",
        "    sgd = SGDRegressor(loss ='squared_loss', penalty='l2', alpha = i, l1_ratio = 0.8)\n",
        "    sgd.fit(X_train, y_train)\n",
        "    y_cv_pred = sgd.predict(X_cv)\n",
        "    y_cv_pred_tr = sgd.predict(X_train)\n",
        "    rmse_cv = mean_squared_error(y_cv, y_cv_pred, squared = False)\n",
        "    rmse_train = mean_squared_error(y_train, y_cv_pred_tr, squared = False)\n",
        "    print(\"param:{} -> cv: {}   train:{}\".format(i, rmse_cv, rmse_train))"
      ],
      "execution_count": null,
      "outputs": [
        {
          "output_type": "stream",
          "text": [
            "param:0.01 -> cv: 85079.14150927433   train:375.22306565891876\n",
            "param:0.1 -> cv: 77993.45292308363   train:375.68210593982064\n",
            "param:1 -> cv: 41822.439316885124   train:391.06508473318405\n",
            "param:10 -> cv: 7913.588452595112   train:423.2940751193015\n",
            "param:100 -> cv: 860.9011840861876   train:431.95101402964826\n",
            "param:1000 -> cv: 405.8260110612255   train:432.80691484371715\n",
            "param:10000 -> cv: 432.91455226282426   train:433.1171575950834\n",
            "param:100000 -> cv: 426.1704564718876   train:433.096206006484\n",
            "param:1000000 -> cv: 419.2861379607945   train:433.0681584613228\n"
          ],
          "name": "stdout"
        }
      ]
    },
    {
      "cell_type": "code",
      "metadata": {
        "id": "V9hnfeL-uRFI",
        "outputId": "9416625b-d911-4e9c-dc83-e9cdc02e3a4f",
        "colab": {
          "base_uri": "https://localhost:8080/",
          "height": 34
        }
      },
      "source": [
        "y_train = train_data['GrocerySales'].values.reshape(-1,1)\n",
        "X_train = train_data['Day'].values.reshape(-1,1)\n",
        "X_test = test_data['Day'].values.reshape(-1,1)\n",
        "\n",
        "scaler = StandardScaler()\n",
        "scaler.fit(X_train)  # fit only on training data\n",
        "X_train = scaler.transform(X_train)\n",
        "X_test = scaler.transform(X_test)  # apply same transformation to test data\n",
        "\n",
        "sgd = SGDRegressor(loss ='squared_loss', penalty='l2', alpha = i, l1_ratio = 0.8)\n",
        "sgd.fit(X_train, y_train)\n",
        "y_pred = sgd.predict(X_test)\n",
        "y_pred.shape"
      ],
      "execution_count": null,
      "outputs": [
        {
          "output_type": "execute_result",
          "data": {
            "text/plain": [
              "(90,)"
            ]
          },
          "metadata": {
            "tags": []
          },
          "execution_count": 25
        }
      ]
    },
    {
      "cell_type": "code",
      "metadata": {
        "id": "NpjNsE-nuRFT",
        "outputId": "2a9a383c-3348-484c-c38d-2f0879a8032d",
        "colab": {
          "base_uri": "https://localhost:8080/",
          "height": 204
        }
      },
      "source": [
        "sgd_sub_1 = pd.DataFrame(data = y_pred, columns = {'GrocerySales'})\n",
        "sgd_sub_1.head()"
      ],
      "execution_count": null,
      "outputs": [
        {
          "output_type": "execute_result",
          "data": {
            "text/html": [
              "<div>\n",
              "<style scoped>\n",
              "    .dataframe tbody tr th:only-of-type {\n",
              "        vertical-align: middle;\n",
              "    }\n",
              "\n",
              "    .dataframe tbody tr th {\n",
              "        vertical-align: top;\n",
              "    }\n",
              "\n",
              "    .dataframe thead th {\n",
              "        text-align: right;\n",
              "    }\n",
              "</style>\n",
              "<table border=\"1\" class=\"dataframe\">\n",
              "  <thead>\n",
              "    <tr style=\"text-align: right;\">\n",
              "      <th></th>\n",
              "      <th>GrocerySales</th>\n",
              "    </tr>\n",
              "  </thead>\n",
              "  <tbody>\n",
              "    <tr>\n",
              "      <th>0</th>\n",
              "      <td>8564.516127</td>\n",
              "    </tr>\n",
              "    <tr>\n",
              "      <th>1</th>\n",
              "      <td>8564.516897</td>\n",
              "    </tr>\n",
              "    <tr>\n",
              "      <th>2</th>\n",
              "      <td>8564.517667</td>\n",
              "    </tr>\n",
              "    <tr>\n",
              "      <th>3</th>\n",
              "      <td>8564.518436</td>\n",
              "    </tr>\n",
              "    <tr>\n",
              "      <th>4</th>\n",
              "      <td>8564.519206</td>\n",
              "    </tr>\n",
              "  </tbody>\n",
              "</table>\n",
              "</div>"
            ],
            "text/plain": [
              "   GrocerySales\n",
              "0   8564.516127\n",
              "1   8564.516897\n",
              "2   8564.517667\n",
              "3   8564.518436\n",
              "4   8564.519206"
            ]
          },
          "metadata": {
            "tags": []
          },
          "execution_count": 26
        }
      ]
    },
    {
      "cell_type": "code",
      "metadata": {
        "id": "9rS4yj1ZuRFg"
      },
      "source": [
        "gbr_sub_1.to_excel(mypath + 'gbr_sub_1.xlsx', index = False)"
      ],
      "execution_count": null,
      "outputs": []
    },
    {
      "cell_type": "markdown",
      "metadata": {
        "id": "VWvaB3HDf86j"
      },
      "source": [
        "#### So far, the best score is obtained using RBF-Kernel SVR model as evaluated on 30% of data on MachineHack platform. Public Score: RMSE 485.5507"
      ]
    }
  ]
}